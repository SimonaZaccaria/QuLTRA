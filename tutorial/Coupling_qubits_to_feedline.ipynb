{
 "cells": [
  {
   "cell_type": "markdown",
   "id": "3046a507",
   "metadata": {},
   "source": [
    "## COUPLING QUBITS TO THE FEEDLINE\n",
    "\n",
    "We consider a feedline with an input capacitance $ C_{\\text{in}} $ to investigate how the coupling changes as the distance between the device under test (either a qubit coupled to a single resonator or a qubit coupled to a resonator which is itself coupled to a Purcell filter) and the input capacitance varies. We perform this analysis for both capacitive and inductive coupling. We expect maximum coupling at a distance of $\\lambda/2$ for capacitive coupling and $\\lambda/4$ for inductive coupling, where $\\lambda$ is the wavelength corresponding to the frequency we aim to read out through the feedline.\n"
   ]
  },
  {
   "cell_type": "code",
   "execution_count": 2,
   "id": "3ac92e47",
   "metadata": {},
   "outputs": [],
   "source": [
    "import numpy as np\n",
    "import qultra as qu"
   ]
  },
  {
   "cell_type": "code",
   "execution_count": 3,
   "id": "fbddba40",
   "metadata": {},
   "outputs": [
    {
     "name": "stdout",
     "output_type": "stream",
     "text": [
      "+------+------------+-----------+-----------+\n",
      "| Mode | Freq [GHz] |  k [MHz]  |     Q     |\n",
      "+------+------------+-----------+-----------+\n",
      "|  1   |  5.50e+00  | -4.64e-05 | -1.18e+08 |\n",
      "|  2   |  7.33e+00  | -1.49e+01 | -4.90e+02 |\n",
      "|  3   |  7.64e+00  | -5.31e+00 | -1.44e+03 |\n",
      "+------+------------+-----------+-----------+\n",
      "Chi matrix [MHz]:\n",
      "+------+----------+----------+----------+\n",
      "| Mode |    1     |    2     |    3     |\n",
      "+------+----------+----------+----------+\n",
      "|  1   | 2.11e+02 | 4.55e-01 | 1.21e+00 |\n",
      "|  2   | 4.55e-01 | 2.45e-04 | 1.30e-03 |\n",
      "|  3   | 1.21e+00 | 1.30e-03 | 1.73e-03 |\n",
      "+------+----------+----------+----------+\n",
      "Qubit Purcell decay time is: 3.427857827751835 ms\n"
     ]
    }
   ],
   "source": [
    "Cj=85e-15 #qubit capacitance\n",
    "Lj=9.2e-9 #qubit junction\n",
    "Cg=6e-15 #coupling capacitance\n",
    "l=3.8e-3 #cpw length\n",
    "Cp=12e-15\n",
    "\n",
    "\n",
    "net=[qu.C(0,1,Cj),qu.J(0,1,Lj,1),qu.C(1,2,Cg),qu.CPW(0,2,l),qu.C(2,3,Cp),qu.CPW(3,0,l),qu.C(3,4,20e-15),qu.R(0,4,50)]\n",
    "circuit=qu.QCircuit(net,3,10)\n",
    "circuit.show_all()\n",
    "print(\"Qubit Purcell decay time is:\",1/circuit.kappa()[0]/1e6/2/np.pi/1e-3,\"ms\")"
   ]
  },
  {
   "cell_type": "code",
   "execution_count": 4,
   "id": "60519252",
   "metadata": {},
   "outputs": [
    {
     "name": "stderr",
     "output_type": "stream",
     "text": [
      "C:\\Users\\simyz\\OneDrive - Alma Mater Studiorum Università di Bologna\\Desktop\\GitHub\\QuLTRA\\src\\qultra\\find_zeros.py:65: UserWarning: Newton's method failed for initial guess 11947674207.507673j: Failed to converge after 150 iterations, value is (-2765418734.14917+8629017391.706299j).\n",
      "  warnings.warn(f\"Newton's method failed for initial guess {x0}: {e_newton}\")\n",
      "C:\\Users\\simyz\\OneDrive - Alma Mater Studiorum Università di Bologna\\Desktop\\GitHub\\QuLTRA\\src\\qultra\\find_zeros.py:76: UserWarning: Zero point (-2765418734.1491723+8629017391.706297j) has k > k_max, excluding it.\n",
      "  warnings.warn(f\"Zero point {zero_point} has k > k_max, excluding it.\")\n",
      "C:\\Users\\simyz\\OneDrive - Alma Mater Studiorum Università di Bologna\\Desktop\\GitHub\\QuLTRA\\src\\qultra\\find_zeros.py:76: UserWarning: Zero point (-2730992242.4150095+8494629400.988188j) has k > k_max, excluding it.\n",
      "  warnings.warn(f\"Zero point {zero_point} has k > k_max, excluding it.\")\n",
      "C:\\Users\\simyz\\OneDrive - Alma Mater Studiorum Università di Bologna\\Desktop\\GitHub\\QuLTRA\\src\\qultra\\find_zeros.py:76: UserWarning: Zero point (-2697293423.1152987+8364353010.970018j) has k > k_max, excluding it.\n",
      "  warnings.warn(f\"Zero point {zero_point} has k > k_max, excluding it.\")\n",
      "C:\\Users\\simyz\\OneDrive - Alma Mater Studiorum Università di Bologna\\Desktop\\GitHub\\QuLTRA\\src\\qultra\\find_zeros.py:76: UserWarning: Zero point (-2664299149.7694764+8237974706.168632j) has k > k_max, excluding it.\n",
      "  warnings.warn(f\"Zero point {zero_point} has k > k_max, excluding it.\")\n",
      "C:\\Users\\simyz\\OneDrive - Alma Mater Studiorum Università di Bologna\\Desktop\\GitHub\\QuLTRA\\src\\qultra\\find_zeros.py:76: UserWarning: Zero point (-2631991092.9345245+8115294189.9715j) has k > k_max, excluding it.\n",
      "  warnings.warn(f\"Zero point {zero_point} has k > k_max, excluding it.\")\n",
      "C:\\Users\\simyz\\OneDrive - Alma Mater Studiorum Università di Bologna\\Desktop\\GitHub\\QuLTRA\\src\\qultra\\find_zeros.py:76: UserWarning: Zero point (-2600355462.3362546+7996124061.939791j) has k > k_max, excluding it.\n",
      "  warnings.warn(f\"Zero point {zero_point} has k > k_max, excluding it.\")\n",
      "C:\\Users\\simyz\\OneDrive - Alma Mater Studiorum Università di Bologna\\Desktop\\GitHub\\QuLTRA\\src\\qultra\\find_zeros.py:76: UserWarning: Zero point (-2569382623.424843+7880289569.708474j) has k > k_max, excluding it.\n",
      "  warnings.warn(f\"Zero point {zero_point} has k > k_max, excluding it.\")\n",
      "C:\\Users\\simyz\\OneDrive - Alma Mater Studiorum Università di Bologna\\Desktop\\GitHub\\QuLTRA\\src\\qultra\\find_zeros.py:76: UserWarning: Zero point (-2539066583.8641067+7767628391.325259j) has k > k_max, excluding it.\n",
      "  warnings.warn(f\"Zero point {zero_point} has k > k_max, excluding it.\")\n",
      "C:\\Users\\simyz\\OneDrive - Alma Mater Studiorum Università di Bologna\\Desktop\\GitHub\\QuLTRA\\src\\qultra\\find_zeros.py:76: UserWarning: Zero point (-2509404355.915103+7657990402.240671j) has k > k_max, excluding it.\n",
      "  warnings.warn(f\"Zero point {zero_point} has k > k_max, excluding it.\")\n",
      "C:\\Users\\simyz\\OneDrive - Alma Mater Studiorum Università di Bologna\\Desktop\\GitHub\\QuLTRA\\src\\qultra\\find_zeros.py:76: UserWarning: Zero point (-2480395212.5544333+7551237382.721739j) has k > k_max, excluding it.\n",
      "  warnings.warn(f\"Zero point {zero_point} has k > k_max, excluding it.\")\n"
     ]
    }
   ],
   "source": [
    "from qultra import constants\n",
    "constants.step=0.001\n",
    "Cin=0.204/(2*50*2*np.pi*7.6e9)\n",
    "l_l=np.arange(0.1,14,0.2)\n",
    "k1=[]\n",
    "for li in l_l:\n",
    "    net=[qu.C(0,1,Cj),qu.J(0,1,Lj,1),qu.C(1,2,Cg),qu.CPW(0,2,l),qu.C(2,3,Cp),qu.CPW(3,0,l),qu.C(3,4,20e-15),qu.CPW(5,4,li*1e-3),qu.C(6,5,Cin),qu.R(0,4,50),qu.R(6,0,50)]\n",
    "    circuit=qu.QCircuit(net,3,12)\n",
    "    k1.append(circuit.kappa()[2])\n",
    "\n"
   ]
  },
  {
   "cell_type": "code",
   "execution_count": 5,
   "id": "df7054c1",
   "metadata": {},
   "outputs": [
    {
     "name": "stdout",
     "output_type": "stream",
     "text": [
      "+------+------------+-----------+-----------+\n",
      "| Mode | Freq [GHz] |  k [MHz]  |     Q     |\n",
      "+------+------------+-----------+-----------+\n",
      "|  1   |  3.84e+00  | -4.93e-03 | -7.80e+05 |\n",
      "|  2   |  4.98e+00  | -2.76e+00 | -1.81e+03 |\n",
      "+------+------------+-----------+-----------+\n",
      "Chi matrix [MHz]:\n",
      "+------+----------+----------+\n",
      "| Mode |    1     |    2     |\n",
      "+------+----------+----------+\n",
      "|  1   | 1.82e+02 | 2.10e+00 |\n",
      "|  2   | 2.10e+00 | 6.04e-03 |\n",
      "+------+----------+----------+\n"
     ]
    }
   ],
   "source": [
    "Cj2=97e-15\n",
    "Lj2=16.3e-9\n",
    "Cg2=8e-15\n",
    "l2=5.85e-3\n",
    "lc=0.7e-3\n",
    "\n",
    "net2=[qu.C(0,1,Cj2),qu.J(0,1,Lj2),qu.C(1,2,Cg2),qu.CPW(2,3,l2-lc),qu.CPW_coupler([3,0,4,5],[10,10,10,10],[15,5,15],lc),qu.CPW(6,4,l2-lc),qu.R(0,5,50),qu.C(7,6,Cin),qu.R(0,7,50)]\n",
    "circuit2=qu.QCircuit(net2,3,10)\n",
    "circuit2.show_all()"
   ]
  },
  {
   "cell_type": "code",
   "execution_count": null,
   "id": "2342dc2b",
   "metadata": {},
   "outputs": [],
   "source": [
    "\n",
    "k2=[]\n",
    "for li in l_l:\n",
    "    net2=[qu.C(0,1,Cj2),qu.J(0,1,Lj2),qu.C(1,2,Cg2),qu.CPW(2,3,l2-lc),qu.CPW_coupler([3,0,4,5],[10,10,10,10],[15,5,15],lc),qu.CPW(6,4,li*1e-3),qu.R(0,5,50),qu.C(7,6,Cin),qu.R(0,7,50)]\n",
    "    circuit2=qu.QCircuit(net2,2,10)\n",
    "    k2.append(circuit2.kappa()[1])"
   ]
  },
  {
   "cell_type": "code",
   "execution_count": null,
   "id": "e426889f",
   "metadata": {},
   "outputs": [
    {
     "ename": "NameError",
     "evalue": "name 'l_l' is not defined",
     "output_type": "error",
     "traceback": [
      "\u001b[31m---------------------------------------------------------------------------\u001b[39m",
      "\u001b[31mNameError\u001b[39m                                 Traceback (most recent call last)",
      "\u001b[36mCell\u001b[39m\u001b[36m \u001b[39m\u001b[32mIn[1]\u001b[39m\u001b[32m, line 3\u001b[39m\n\u001b[32m      1\u001b[39m \u001b[38;5;28;01mimport\u001b[39;00m\u001b[38;5;250m \u001b[39m\u001b[34;01mmatplotlib\u001b[39;00m\u001b[34;01m.\u001b[39;00m\u001b[34;01mpyplot\u001b[39;00m\u001b[38;5;250m \u001b[39m\u001b[38;5;28;01mas\u001b[39;00m\u001b[38;5;250m \u001b[39m\u001b[34;01mplt\u001b[39;00m\n\u001b[32m      2\u001b[39m plt.figure(figsize=(\u001b[32m8\u001b[39m, \u001b[32m5\u001b[39m))\n\u001b[32m----> \u001b[39m\u001b[32m3\u001b[39m plt.plot(\u001b[43ml_l\u001b[49m, k1, \u001b[33m'\u001b[39m\u001b[33mo-\u001b[39m\u001b[33m'\u001b[39m, color=\u001b[33m'\u001b[39m\u001b[33mblue\u001b[39m\u001b[33m'\u001b[39m,label=\u001b[33m'\u001b[39m\u001b[33mcapacitive coupling\u001b[39m\u001b[33m'\u001b[39m)\n\u001b[32m      4\u001b[39m plt.plot(l_l, k2, \u001b[33m'\u001b[39m\u001b[33mo-\u001b[39m\u001b[33m'\u001b[39m, color=\u001b[33m'\u001b[39m\u001b[33morange\u001b[39m\u001b[33m'\u001b[39m,label=\u001b[33m'\u001b[39m\u001b[33minductive coupling\u001b[39m\u001b[33m'\u001b[39m)\n\u001b[32m      5\u001b[39m plt.xlabel(\u001b[33m'\u001b[39m\u001b[33mDistance to the capacitance [mm]\u001b[39m\u001b[33m'\u001b[39m, fontsize=\u001b[32m18\u001b[39m)\n",
      "\u001b[31mNameError\u001b[39m: name 'l_l' is not defined"
     ]
    },
    {
     "data": {
      "text/plain": [
       "<Figure size 800x500 with 0 Axes>"
      ]
     },
     "metadata": {},
     "output_type": "display_data"
    }
   ],
   "source": [
    "import matplotlib.pyplot as plt\n",
    "plt.figure(figsize=(8, 5))\n",
    "plt.plot(l_l, k1, 'o-', color='blue',label='capacitive coupling')\n",
    "plt.plot(l_l, k2, 'o-', color='orange',label='inductive coupling')\n",
    "plt.xlabel('Distance to the capacitance [mm]', fontsize=18)\n",
    "plt.ylabel('$\\kappa$ [MHz]',fontsize=18)\n",
    "plt.grid(True)\n",
    "\n",
    "plt.legend(fontsize=18)\n",
    "plt.xticks(fontsize=18)\n",
    "plt.yticks(fontsize=18)"
   ]
  },
  {
   "cell_type": "markdown",
   "id": "3c426f8d",
   "metadata": {},
   "source": [
    "Here, we place the two structures at the positions where $\\kappa$ is maximized and analyze the entire circuit in one shot."
   ]
  },
  {
   "cell_type": "code",
   "execution_count": 14,
   "id": "8daf4343",
   "metadata": {},
   "outputs": [
    {
     "name": "stdout",
     "output_type": "stream",
     "text": [
      "+------+------------+-----------+-----------+\n",
      "| Mode | Freq [GHz] |  k [MHz]  |     Q     |\n",
      "+------+------------+-----------+-----------+\n",
      "|  1   |  3.84e+00  | -5.04e-03 | -7.62e+05 |\n",
      "|  2   |  4.98e+00  | -2.78e+00 | -1.80e+03 |\n",
      "|  3   |  5.50e+00  | -4.55e-05 | -1.21e+08 |\n",
      "|  4   |  7.33e+00  | -1.42e+01 | -5.16e+02 |\n",
      "|  5   |  7.64e+00  | -5.06e+00 | -1.51e+03 |\n",
      "+------+------------+-----------+-----------+\n",
      "Chi matrix [MHz]:\n",
      "+------+----------+----------+----------+----------+----------+\n",
      "| Mode |    1     |    2     |    3     |    4     |    5     |\n",
      "+------+----------+----------+----------+----------+----------+\n",
      "|  1   | 1.82e+02 | 2.10e+00 | 1.76e-10 | 2.05e-06 | 5.86e-07 |\n",
      "|  2   | 2.10e+00 | 6.04e-03 | 9.58e-09 | 1.18e-08 | 3.40e-09 |\n",
      "|  3   | 1.76e-10 | 9.58e-09 | 2.11e+02 | 4.55e-01 | 1.20e+00 |\n",
      "|  4   | 2.05e-06 | 1.18e-08 | 4.55e-01 | 2.45e-04 | 1.30e-03 |\n",
      "|  5   | 5.86e-07 | 3.40e-09 | 1.20e+00 | 1.30e-03 | 1.72e-03 |\n",
      "+------+----------+----------+----------+----------+----------+\n"
     ]
    }
   ],
   "source": [
    "complex_net=[qu.C(0,1,Cj), #first qubit\n",
    "             qu.J(0,1,Lj),\n",
    "             qu.C(1,2,Cg), #coupling capacitor\n",
    "             qu.CPW(0,2,l), #resonator\n",
    "             qu.C(2,3,Cp),\n",
    "             qu.CPW(3,0,l), #purcell filter\n",
    "             qu.C(3,4,20e-15), #coupling capacitance\n",
    "             qu.C(0,5,Cj2), #second qubit\n",
    "             qu.J(0,5,Lj2),\n",
    "             qu.C(5,6,Cg2),\n",
    "             qu.CPW(6,7,l2-0.7e-3),\n",
    "             qu.CPW_coupler([7,0,8,9],[10,10,10,10],[15,5,15],0.7e-3), #coupler\n",
    "             qu.R(0,9,50),\n",
    "             qu.CPW(8,4,l2-0.7e-3),\n",
    "             qu.C(4,10,Cin),\n",
    "             qu.R(10,0,50)]\n",
    "\n",
    "complex=qu.QCircuit(complex_net,3,10)\n",
    "complex.show_all()"
   ]
  },
  {
   "cell_type": "code",
   "execution_count": null,
   "id": "34289703",
   "metadata": {},
   "outputs": [],
   "source": []
  }
 ],
 "metadata": {
  "kernelspec": {
   "display_name": "Python 3",
   "language": "python",
   "name": "python3"
  },
  "language_info": {
   "codemirror_mode": {
    "name": "ipython",
    "version": 3
   },
   "file_extension": ".py",
   "mimetype": "text/x-python",
   "name": "python",
   "nbconvert_exporter": "python",
   "pygments_lexer": "ipython3",
   "version": "3.11.9"
  }
 },
 "nbformat": 4,
 "nbformat_minor": 5
}
