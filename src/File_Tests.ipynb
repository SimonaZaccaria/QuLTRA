{
 "cells": [
  {
   "cell_type": "code",
   "execution_count": 1,
   "id": "36874db0",
   "metadata": {},
   "outputs": [
    {
     "ename": "ModuleNotFoundError",
     "evalue": "No module named 'core'",
     "output_type": "error",
     "traceback": [
      "\u001b[31m---------------------------------------------------------------------------\u001b[39m",
      "\u001b[31mModuleNotFoundError\u001b[39m                       Traceback (most recent call last)",
      "\u001b[36mCell\u001b[39m\u001b[36m \u001b[39m\u001b[32mIn[1]\u001b[39m\u001b[32m, line 1\u001b[39m\n\u001b[32m----> \u001b[39m\u001b[32m1\u001b[39m \u001b[38;5;28;01mfrom\u001b[39;00m\u001b[38;5;250m \u001b[39m\u001b[34;01mcore\u001b[39;00m\u001b[38;5;250m \u001b[39m\u001b[38;5;28;01mimport\u001b[39;00m*\n",
      "\u001b[31mModuleNotFoundError\u001b[39m: No module named 'core'"
     ]
    }
   ],
   "source": [
    "from core import*"
   ]
  },
  {
   "cell_type": "code",
   "execution_count": 9,
   "id": "5c699975",
   "metadata": {},
   "outputs": [],
   "source": [
    "import qucat"
   ]
  },
  {
   "cell_type": "code",
   "execution_count": 3,
   "id": "d0931e9f",
   "metadata": {},
   "outputs": [],
   "source": [
    "#primo test con circuito lumped\n",
    "circuit=QCircuit([C(0,1,90e-15),L(0,1,8e-9)]) # inizializzo semplice circuito LC "
   ]
  },
  {
   "cell_type": "code",
   "execution_count": 2,
   "id": "76d89a88",
   "metadata": {},
   "outputs": [
    {
     "ename": "NameError",
     "evalue": "name 'circuit' is not defined",
     "output_type": "error",
     "traceback": [
      "\u001b[31m---------------------------------------------------------------------------\u001b[39m",
      "\u001b[31mNameError\u001b[39m                                 Traceback (most recent call last)",
      "\u001b[36mCell\u001b[39m\u001b[36m \u001b[39m\u001b[32mIn[2]\u001b[39m\u001b[32m, line 3\u001b[39m\n\u001b[32m      1\u001b[39m f_starting_point=\u001b[32m1\u001b[39m\n\u001b[32m      2\u001b[39m f_end_point=\u001b[32m8\u001b[39m\n\u001b[32m----> \u001b[39m\u001b[32m3\u001b[39m \u001b[43mcircuit\u001b[49m.show_eigenvalues(f_starting_point, f_end_point) \u001b[38;5;66;03m#provo a plottare gli autovalori (in questo caso solo la frequenza)\u001b[39;00m\n",
      "\u001b[31mNameError\u001b[39m: name 'circuit' is not defined"
     ]
    }
   ],
   "source": [
    "f_starting_point=1\n",
    "f_end_point=8\n",
    "circuit.show_eigenvalues(f_starting_point, f_end_point) #provo a plottare gli autovalori (in questo caso solo la frequenza)"
   ]
  },
  {
   "cell_type": "code",
   "execution_count": 5,
   "id": "1dceea76",
   "metadata": {},
   "outputs": [
    {
     "name": "stdout",
     "output_type": "stream",
     "text": [
      "5.931354528476477\n"
     ]
    }
   ],
   "source": [
    "f=1/np.sqrt(90e-15*8e-9)/2/np.pi\n",
    "print(f/1e9)\n",
    "#sembra tornare"
   ]
  },
  {
   "cell_type": "code",
   "execution_count": 6,
   "id": "a0fa3a12",
   "metadata": {},
   "outputs": [
    {
     "ename": "ValueError",
     "evalue": "No junctions in the circuit",
     "output_type": "error",
     "traceback": [
      "\u001b[31m---------------------------------------------------------------------------\u001b[39m",
      "\u001b[31mValueError\u001b[39m                                Traceback (most recent call last)",
      "\u001b[36mCell\u001b[39m\u001b[36m \u001b[39m\u001b[32mIn[6]\u001b[39m\u001b[32m, line 1\u001b[39m\n\u001b[32m----> \u001b[39m\u001b[32m1\u001b[39m \u001b[43mcircuit\u001b[49m\u001b[43m.\u001b[49m\u001b[43mrun_epr\u001b[49m\u001b[43m(\u001b[49m\u001b[43mf_starting_point\u001b[49m\u001b[43m,\u001b[49m\u001b[43m \u001b[49m\u001b[43mf_end_point\u001b[49m\u001b[43m)\u001b[49m \u001b[38;5;66;03m#runno epr dovrebbe darmi errore perché non ci sono giunzioni\u001b[39;00m\n",
      "\u001b[36mFile \u001b[39m\u001b[32mc:\\Users\\simyz\\OneDrive - Alma Mater Studiorum Università di Bologna\\Desktop\\Qcomputing\\python_package\\core.py:557\u001b[39m, in \u001b[36mQCircuit.run_epr\u001b[39m\u001b[34m(self, f_starting_point, f_end_point)\u001b[39m\n\u001b[32m    554\u001b[39m         junction_index.append(i)\n\u001b[32m    556\u001b[39m \u001b[38;5;28;01mif\u001b[39;00m N_junct==\u001b[32m0\u001b[39m:\n\u001b[32m--> \u001b[39m\u001b[32m557\u001b[39m     \u001b[38;5;28;01mraise\u001b[39;00m \u001b[38;5;167;01mValueError\u001b[39;00m(\u001b[33m'\u001b[39m\u001b[33mNo junctions in the circuit\u001b[39m\u001b[33m'\u001b[39m)\n\u001b[32m    559\u001b[39m p=np.zeros((\u001b[38;5;28mlen\u001b[39m(circuit_eigenvalues),N_junct)) \u001b[38;5;66;03m#energy participation coefficients matrix\u001b[39;00m\n\u001b[32m    560\u001b[39m E_tot=\u001b[38;5;28mself\u001b[39m.total_inductive_energy(f_starting_point, f_end_point)\n",
      "\u001b[31mValueError\u001b[39m: No junctions in the circuit"
     ]
    }
   ],
   "source": [
    "circuit.run_epr(f_starting_point, f_end_point) #runno epr dovrebbe darmi errore perché non ci sono giunzioni"
   ]
  },
  {
   "cell_type": "code",
   "execution_count": 2,
   "id": "4c0a01dc",
   "metadata": {},
   "outputs": [
    {
     "name": "stdout",
     "output_type": "stream",
     "text": [
      "+------+------------+----------+\n",
      "| Mode | Freq [GHz] | k [MHz]  |\n",
      "+------+------------+----------+\n",
      "|  1   |  5.93e+00  | 0.00e+00 |\n",
      "+------+------------+----------+\n"
     ]
    }
   ],
   "source": [
    "#secondo test con circuito lumped\n",
    "circuit1=QCircuit([C(0,1,90e-15),J(0,1,8e-9)],4,7) # inizializzo semplice qubit \n",
    "circuit1.show_eigenvalues()"
   ]
  },
  {
   "cell_type": "code",
   "execution_count": 7,
   "id": "b4b7bfe8",
   "metadata": {},
   "outputs": [
    {
     "data": {
      "image/png": "[encoded data removed]",
      "text/plain": [
       "<Figure size 640x480 with 1 Axes>"
      ]
     },
     "metadata": {},
     "output_type": "display_data"
    }
   ],
   "source": [
    "from cxroots import Rectangle\n",
    "rect = Rectangle([1,2], [0,1])\n",
    "\n",
    "rect.show()"
   ]
  },
  {
   "cell_type": "code",
   "execution_count": 4,
   "id": "a34a53d1",
   "metadata": {},
   "outputs": [
    {
     "name": "stdout",
     "output_type": "stream",
     "text": [
      "+------+------------+----------+\n",
      "| Mode | Freq [GHz] | k [MHz]  |\n",
      "+------+------------+----------+\n",
      "|  1   |  5.93e+00  | 0.00e+00 |\n",
      "+------+------------+----------+\n"
     ]
    }
   ],
   "source": [
    "f_starting_point=1\n",
    "f_end_point=8\n",
    "circuit1.show_eigenvalues(f_starting_point, f_end_point) #provo a plottare gli autovalori (in questo caso solo la frequenza)"
   ]
  },
  {
   "cell_type": "code",
   "execution_count": 5,
   "id": "8f033ec8",
   "metadata": {},
   "outputs": [
    {
     "name": "stdout",
     "output_type": "stream",
     "text": [
      "[[0, 1]]\n"
     ]
    }
   ],
   "source": [
    "eigen=circuit1.eigenvectors(f_starting_point, f_end_point)\n",
    "print(eigen)"
   ]
  },
  {
   "cell_type": "code",
   "execution_count": null,
   "id": "8f2a6e55",
   "metadata": {},
   "outputs": [
    {
     "data": {
      "text/plain": [
       "array([[215.22477192]])"
      ]
     },
     "execution_count": 6,
     "metadata": {},
     "output_type": "execute_result"
    }
   ],
   "source": [
    "circuit1.run_epr(f_starting_point, f_end_point) "
   ]
  },
  {
   "cell_type": "code",
   "execution_count": 8,
   "id": "caa11e0b",
   "metadata": {},
   "outputs": [
    {
     "name": "stdout",
     "output_type": "stream",
     "text": [
      "215.224771918677\n"
     ]
    }
   ],
   "source": [
    "print(e**2/2/90e-15/h/1e6)"
   ]
  },
  {
   "cell_type": "code",
   "execution_count": 4,
   "id": "baa6b284",
   "metadata": {},
   "outputs": [
    {
     "name": "stdout",
     "output_type": "stream",
     "text": [
      "+------+------------+----------+\n",
      "| Mode | Freq [GHz] | k [MHz]  |\n",
      "+------+------------+----------+\n",
      "|  1   |  7.02e+00  | 0.00e+00 |\n",
      "|  2   |  5.75e+00  | 0.00e+00 |\n",
      "+------+------------+----------+\n"
     ]
    }
   ],
   "source": [
    "#secondo test con circuito lumped\n",
    "circuit2=QCircuit([C(0,1,90e-15),J(0,1,8e-9),C(1,2,5e-15),C(0,2,60e-15),J(0,2,8e-9)],1,10) # inizializzo  qubit coupled to resonator \n",
    "circuit2.show_eigenvalues()"
   ]
  },
  {
   "cell_type": "code",
   "execution_count": 3,
   "id": "1c199e3a",
   "metadata": {},
   "outputs": [],
   "source": [
    "f_starting_point=1\n",
    "f_end_point=10\n",
    "circuit2.show_eigenvalues() #provo a plottare gli autovalori (in questo caso solo la frequenza)"
   ]
  },
  {
   "cell_type": "code",
   "execution_count": 16,
   "id": "e00fcd85",
   "metadata": {},
   "outputs": [
    {
     "data": {
      "text/plain": [
       "[np.float64(5.748659314237031), np.float64(7.023379680717606)]"
      ]
     },
     "execution_count": 16,
     "metadata": {},
     "output_type": "execute_result"
    }
   ],
   "source": [
    "circuit2.eigenvalues(f_starting_point,f_end_point)"
   ]
  },
  {
   "cell_type": "code",
   "execution_count": 17,
   "id": "dc22f6f5",
   "metadata": {},
   "outputs": [
    {
     "name": "stdout",
     "output_type": "stream",
     "text": [
      "7.26439603915684\n"
     ]
    }
   ],
   "source": [
    "print(1/np.sqrt(60e-15*8e-9)/2/np.pi/1e9)"
   ]
  },
  {
   "cell_type": "code",
   "execution_count": 18,
   "id": "330d0fa9",
   "metadata": {},
   "outputs": [
    {
     "data": {
      "text/plain": [
       "array([[192.06190752,  24.70001448],\n",
       "       [ 24.70001448, 286.68197538]])"
      ]
     },
     "execution_count": 18,
     "metadata": {},
     "output_type": "execute_result"
    }
   ],
   "source": [
    "circuit2.run_epr(f_starting_point,f_end_point)"
   ]
  },
  {
   "cell_type": "code",
   "execution_count": 10,
   "id": "b9196c3b",
   "metadata": {},
   "outputs": [
    {
     "name": "stdout",
     "output_type": "stream",
     "text": [
      "         mode |       freq.  |       diss.  |       anha.  |\n",
      "            0 |     5.74 GHz |      309 kHz |      184 MHz |\n",
      "            1 |     6.64 GHz |     11.8 MHz |      541 kHz |\n",
      "\n",
      "Kerr coefficients (diagonal = Kerr, off-diagonal = cross-Kerr)\n",
      "         mode |         0    |         1    |\n",
      "            0 |      184 MHz |              |\n",
      "            1 |     19.9 MHz |      541 kHz |\n",
      "\n"
     ]
    },
    {
     "data": {
      "text/plain": [
       "(array([5.74052983e+09, 6.63536723e+09]),\n",
       " array([  308938.64578188, 11755004.40577816]),\n",
       " array([1.83937671e+08, 5.40826404e+05]),\n",
       " array([[1.83937671e+08, 1.99477667e+07],\n",
       "        [1.99477667e+07, 5.40826404e+05]]))"
      ]
     },
     "execution_count": 10,
     "metadata": {},
     "output_type": "execute_result"
    }
   ],
   "source": [
    "circuit_components=[qucat.C(0,1,90e-15), #qubit capacitance\n",
    "                        qucat.J(0,1,8e-9), #qubit inductance\n",
    "                        qucat.C(0,2,60e-15), #resonator capacitance\n",
    "                        qucat.L(0,2,8e-9),\n",
    "                        qucat.C(1,2,5e-15), #coupling qubit-resonator\n",
    "                        qucat.C(2,3,8e-15),\n",
    "                        qucat.R(3,0,50)\n",
    "                       ]\n",
    "circuit=qucat.Network(circuit_components)\n",
    "f=circuit.eigenfrequencies()\n",
    "chi=circuit.kerr()\n",
    "k=circuit.loss_rates()\n",
    "a=circuit.anharmonicities()\n",
    "\n",
    "circuit.f_k_A_chi(pretty_print =True)"
   ]
  },
  {
   "cell_type": "code",
   "execution_count": 5,
   "id": "519f400b",
   "metadata": {},
   "outputs": [
    {
     "name": "stdout",
     "output_type": "stream",
     "text": [
      "+------+------------+-----------+-----------+\n",
      "| Mode | Freq [GHz] |  k [MHz]  |     Q     |\n",
      "+------+------------+-----------+-----------+\n",
      "|  1   |  6.64e+00  | -1.18e+01 | -5.64e+02 |\n",
      "|  2   |  5.74e+00  | -3.09e-01 | -1.86e+04 |\n",
      "+------+------------+-----------+-----------+\n"
     ]
    }
   ],
   "source": [
    "#secondo test con circuito lumped\n",
    "circuit2=QCircuit([C(0,1,90e-15),J(0,1,8e-9),C(1,2,5e-15),C(0,2,60e-15),L(0,2,8e-9),C(2,3,8e-15),R(3,0,50)],3,8) # inizializzo  qubit coupled to resonator \n",
    "circuit2.show_eigenvalues()"
   ]
  },
  {
   "cell_type": "code",
   "execution_count": null,
   "id": "57a17b22",
   "metadata": {},
   "outputs": [
    {
     "name": "stdout",
     "output_type": "stream",
     "text": [
      "-0.3089386457818871\n"
     ]
    }
   ],
   "source": [
    "k=circuit2.eigenvalues(f_starting_point,f_end_point)\n",
    "print(2*k[1][1])"
   ]
  },
  {
   "cell_type": "code",
   "execution_count": 28,
   "id": "c4d4672e",
   "metadata": {},
   "outputs": [
    {
     "name": "stdout",
     "output_type": "stream",
     "text": [
      "-11.755004405781985\n"
     ]
    }
   ],
   "source": [
    "print(2*k[1][1])"
   ]
  },
  {
   "cell_type": "code",
   "execution_count": 22,
   "id": "89c27161",
   "metadata": {},
   "outputs": [
    {
     "name": "stdout",
     "output_type": "stream",
     "text": [
      "+------+------------+-----------+-----------+\n",
      "| Mode | Freq [GHz] |  k [MHz]  |     Q     |\n",
      "+------+------------+-----------+-----------+\n",
      "|  1   |  5.74e+00  | -3.09e-01 | -1.86e+04 |\n",
      "|  2   |  6.64e+00  | -1.18e+01 | -5.64e+02 |\n",
      "+------+------------+-----------+-----------+\n"
     ]
    }
   ],
   "source": [
    "f_starting_point=1\n",
    "f_end_point=10\n",
    "circuit2.show_eigenvalues(f_starting_point, f_end_point) #provo a plottare gli autovalori (in questo caso solo la frequenza)"
   ]
  },
  {
   "cell_type": "code",
   "execution_count": 23,
   "id": "2c59d5ea",
   "metadata": {},
   "outputs": [
    {
     "data": {
      "text/plain": [
       "array([[183.93653142,  19.94701259],\n",
       "       [ 19.94701259,   0.54078886]])"
      ]
     },
     "execution_count": 23,
     "metadata": {},
     "output_type": "execute_result"
    }
   ],
   "source": [
    "circuit2.run_epr(f_starting_point,f_end_point)"
   ]
  },
  {
   "cell_type": "code",
   "execution_count": 3,
   "id": "a9567466",
   "metadata": {},
   "outputs": [
    {
     "name": "stdout",
     "output_type": "stream",
     "text": [
      "Chi matrix [MHz]:\n",
      "+------+----------+----------+\n",
      "| Mode |    1     |    2     |\n",
      "+------+----------+----------+\n",
      "|  1   | 1.84e+02 | 1.99e+01 |\n",
      "|  2   | 1.99e+01 | 5.41e-01 |\n",
      "+------+----------+----------+\n"
     ]
    }
   ],
   "source": [
    "f_starting_point=1\n",
    "f_end_point=10\n",
    "circuit2.show_chi(f_starting_point,f_end_point)"
   ]
  },
  {
   "cell_type": "code",
   "execution_count": 4,
   "id": "6e47ecf3",
   "metadata": {},
   "outputs": [
    {
     "name": "stdout",
     "output_type": "stream",
     "text": [
      "+------+------------+-----------+-----------+\n",
      "| Mode | Freq [GHz] |  k [MHz]  |     Q     |\n",
      "+------+------------+-----------+-----------+\n",
      "|  1   |  5.74e+00  | -3.09e-01 | -1.86e+04 |\n",
      "|  2   |  6.64e+00  | -1.18e+01 | -5.64e+02 |\n",
      "+------+------------+-----------+-----------+\n",
      "Chi matrix [MHz]:\n",
      "+------+----------+----------+\n",
      "| Mode |    1     |    2     |\n",
      "+------+----------+----------+\n",
      "|  1   | 1.84e+02 | 1.99e+01 |\n",
      "|  2   | 1.99e+01 | 5.41e-01 |\n",
      "+------+----------+----------+\n"
     ]
    }
   ],
   "source": [
    "f_starting_point=1\n",
    "f_end_point=10\n",
    "circuit2.show_all(f_starting_point,f_end_point)"
   ]
  },
  {
   "cell_type": "code",
   "execution_count": 5,
   "id": "32b57395",
   "metadata": {},
   "outputs": [],
   "source": [
    "#secondo test con circuito lumped\n",
    "circuit3=QCircuit([C(0,1,98.19e-15),J(0,1,11e-9),C(1,2,4.4e-15),CPW(0,2,5.76e-3),C(2,3,8.62e-15),R(0,3,50)]) #qubit coupled to lambda quarter resonator"
   ]
  },
  {
   "cell_type": "code",
   "execution_count": null,
   "id": "e83dc73e",
   "metadata": {},
   "outputs": [
    {
     "data": {
      "text/plain": [
       "[array([0.00000000e+00+0.j        , 2.92426385e-01-0.j        ,\n",
       "        9.56195490e-01+0.00140457j, 1.62023658e-04+0.0132286j ])]"
      ]
     },
     "execution_count": 7,
     "metadata": {},
     "output_type": "execute_result"
    }
   ],
   "source": [
    "f_starting_point=1\n",
    "f_end_point=10\n",
    "circuit3.eigenva(f_starting_point,f_end_point)"
   ]
  },
  {
   "cell_type": "code",
   "execution_count": 6,
   "id": "8e06d240",
   "metadata": {},
   "outputs": [
    {
     "name": "stdout",
     "output_type": "stream",
     "text": [
      "+------+------------+-----------+-----------+\n",
      "| Mode | Freq [GHz] |  k [MHz]  |     Q     |\n",
      "+------+------------+-----------+-----------+\n",
      "|  1   |  5.11e+00  | -1.22e+00 | -4.17e+03 |\n",
      "+------+------------+-----------+-----------+\n",
      "Chi matrix [MHz]:\n",
      "+------+----------+\n",
      "| Mode |    1     |\n",
      "+------+----------+\n",
      "|  1   | 6.03e-02 |\n",
      "+------+----------+\n"
     ]
    }
   ],
   "source": [
    "circuit3.show_all(f_starting_point,f_end_point)"
   ]
  },
  {
   "cell_type": "code",
   "execution_count": 2,
   "id": "3fb370d3",
   "metadata": {},
   "outputs": [],
   "source": [
    "Cp0=96e-15\n",
    "Cp1=89.2e-15\n",
    "C12=47.85e-15\n",
    "Lj=16.3e-9\n",
    "Cg=14e-15\n",
    "l=5.59e-3\n",
    "l1=0.2e-3\n",
    "\n",
    "circuit_test=QCircuit([C(0,1,Cp0),C(0,2,Cp1),C(1,2,C12),C(2,3,Cg),L(1,2,Lj),CPW(3,4,l-l1),CPW_coupler([4,0,5,6],[10,10,10],[15,15],l1),R(0,5,50),R(0,6,50)],2,6)"
   ]
  },
  {
   "cell_type": "code",
   "execution_count": 9,
   "id": "5f60c5d8",
   "metadata": {},
   "outputs": [],
   "source": [
    "Cp0=96e-15\n",
    "Cp1=89.2e-15\n",
    "C12=47.85e-15\n",
    "Lj=16.3e-9\n",
    "Cg=14e-15\n",
    "l=5.59e-3\n",
    "l1=0.2e-3\n",
    "\n",
    "circuit_test=QCircuit([C(0,1,Cp0),C(0,2,Cp1),C(1,2,C12),C(2,3,Cg),L(1,2,Lj),CPW(3,0,l)],3,8)"
   ]
  },
  {
   "cell_type": "code",
   "execution_count": 3,
   "id": "1ade5a41",
   "metadata": {},
   "outputs": [
    {
     "name": "stdout",
     "output_type": "stream",
     "text": [
      "+------+------------+-----------+-----------+\n",
      "| Mode | Freq [GHz] |  k [MHz]  |     Q     |\n",
      "+------+------------+-----------+-----------+\n",
      "|  1   |  3.99e+00  | -2.66e-03 | -1.50e+06 |\n",
      "|  2   |  5.22e+00  | -1.71e+00 | -3.06e+03 |\n",
      "+------+------------+-----------+-----------+\n"
     ]
    }
   ],
   "source": [
    "circuit_test.show_eigenvalues()"
   ]
  },
  {
   "cell_type": "code",
   "execution_count": 5,
   "id": "39e16800",
   "metadata": {},
   "outputs": [],
   "source": [
    "Cj=77.5e-15\n",
    "Lj=7.73e-9\n",
    "Cg=20e-15\n",
    "l=3.97e-3\n",
    "l1=0.4e-3\n",
    "\n",
    "circuit_structure4=QCircuit([C(0,1,Cj),J(0,1,Lj),C(1,2,Cg),CPW(2,3,l-l1),CPW_coupler([3,0,4,5],[10,5,15,10],[15,2,15],l1),R(0,5,50),R(0,4,50)],5,9)"
   ]
  },
  {
   "cell_type": "code",
   "execution_count": 6,
   "id": "7e03a951",
   "metadata": {},
   "outputs": [
    {
     "name": "stdout",
     "output_type": "stream",
     "text": [
      "+------+------------+-----------+-----------+\n",
      "| Mode | Freq [GHz] |  k [MHz]  |     Q     |\n",
      "+------+------------+-----------+-----------+\n",
      "|  1   |  5.74e+00  | -5.79e-02 | -9.90e+04 |\n",
      "|  2   |  7.41e+00  | -2.36e+00 | -3.13e+03 |\n",
      "+------+------------+-----------+-----------+\n",
      "Chi matrix [MHz]:\n",
      "+------+----------+----------+\n",
      "| Mode |    1     |    2     |\n",
      "+------+----------+----------+\n",
      "|  1   | 1.79e+02 | 2.79e+01 |\n",
      "|  2   | 2.79e+01 | 1.09e+00 |\n",
      "+------+----------+----------+\n"
     ]
    }
   ],
   "source": [
    "circuit_structure4.show_all()"
   ]
  },
  {
   "cell_type": "code",
   "execution_count": 10,
   "id": "92696e5a",
   "metadata": {},
   "outputs": [
    {
     "name": "stdout",
     "output_type": "stream",
     "text": [
      "+------+------------+-----------+-----------+\n",
      "| Mode | Freq [GHz] |  k [MHz]  |     Q     |\n",
      "+------+------------+-----------+-----------+\n",
      "|  1   |  5.70e+00  | -8.37e+00 | -6.81e+02 |\n",
      "+------+------------+-----------+-----------+\n"
     ]
    }
   ],
   "source": [
    "L1=10e-9\n",
    "C1=70e-15\n",
    "C2=8e-15\n",
    "Resistance=50\n",
    "circuit1=QCircuit([C(0,1,C1),L(0,1,L1),C(1,2,C2),R(2,0,50)],3,6)\n",
    "circuit1.show_eigenvalues()"
   ]
  },
  {
   "cell_type": "code",
   "execution_count": null,
   "id": "790ec714",
   "metadata": {},
   "outputs": [],
   "source": []
  }
 ],
 "metadata": {
  "kernelspec": {
   "display_name": "Python 3",
   "language": "python",
   "name": "python3"
  },
  "language_info": {
   "codemirror_mode": {
    "name": "ipython",
    "version": 3
   },
   "file_extension": ".py",
   "mimetype": "text/x-python",
   "name": "python",
   "nbconvert_exporter": "python",
   "pygments_lexer": "ipython3",
   "version": "3.11.9"
  }
 },
 "nbformat": 4,
 "nbformat_minor": 5
}
